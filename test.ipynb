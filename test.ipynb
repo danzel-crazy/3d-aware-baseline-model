{
 "cells": [
  {
   "cell_type": "code",
   "execution_count": 1,
   "metadata": {},
   "outputs": [
    {
     "name": "stderr",
     "output_type": "stream",
     "text": [
      "/home/master/13/danzel/anaconda3/envs/mask/lib/python3.9/site-packages/tqdm/auto.py:21: TqdmWarning: IProgress not found. Please update jupyter and ipywidgets. See https://ipywidgets.readthedocs.io/en/stable/user_install.html\n",
      "  from .autonotebook import tqdm as notebook_tqdm\n",
      "/home/master/13/danzel/anaconda3/envs/mask/lib/python3.9/site-packages/timm/models/layers/__init__.py:48: FutureWarning: Importing from timm.models.layers is deprecated, please import via timm.layers\n",
      "  warnings.warn(f\"Importing from {__name__} is deprecated, please import via timm.layers\", FutureWarning)\n"
     ]
    }
   ],
   "source": [
    "import math\n",
    "\n",
    "from PIL import Image, ImageOps\n",
    "from transformers import logging\n",
    "\n",
    "from mask_extractor import ExternalMaskExtractor\n",
    "import os"
   ]
  },
  {
   "cell_type": "code",
   "execution_count": 8,
   "metadata": {},
   "outputs": [
    {
     "name": "stdout",
     "output_type": "stream",
     "text": [
      "Image name: move_cube\n"
     ]
    }
   ],
   "source": [
    "image_path = \"/tmp2/danzel/mask_extractor/test_images/move_cube.jpg\"\n",
    "edit_instruction = 'move the blue fucet to the right'\n",
    "\n",
    "image_name = os.path.basename(image_path).split('.')[0]\n",
    "print(f\"Image name: {image_name}\")"
   ]
  },
  {
   "cell_type": "code",
   "execution_count": 9,
   "metadata": {},
   "outputs": [
    {
     "name": "stdout",
     "output_type": "stream",
     "text": [
      "Image saved as: /tmp2/danzel/mask_extractor/test_images/move_cube.png\n"
     ]
    }
   ],
   "source": [
    "# Open the image\n",
    "image = Image.open(image_path)\n",
    "\n",
    "# Define the new image path with .png extension\n",
    "new_image_path = image_path.replace('.jpg', '.png')\n",
    "\n",
    "# Save the image in PNG format\n",
    "image.save(new_image_path, 'PNG')\n",
    "\n",
    "print(f\"Image saved as: {new_image_path}\")"
   ]
  }
 ],
 "metadata": {
  "kernelspec": {
   "display_name": "mask",
   "language": "python",
   "name": "python3"
  },
  "language_info": {
   "codemirror_mode": {
    "name": "ipython",
    "version": 3
   },
   "file_extension": ".py",
   "mimetype": "text/x-python",
   "name": "python",
   "nbconvert_exporter": "python",
   "pygments_lexer": "ipython3",
   "version": "3.9.21"
  }
 },
 "nbformat": 4,
 "nbformat_minor": 2
}
